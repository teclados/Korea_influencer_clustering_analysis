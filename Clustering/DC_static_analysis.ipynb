{
 "cells": [
  {
   "cell_type": "code",
   "execution_count": 1,
   "metadata": {},
   "outputs": [
    {
     "name": "stdout",
     "output_type": "stream",
     "text": [
      "               post      follower       follow  open_account  \\\n",
      "count    940.000000  9.400000e+02   940.000000    940.000000   \n",
      "mean    1678.821277  4.846747e+05  1060.675532      0.995745   \n",
      "std     1929.336225  2.756739e+06  1759.847636      0.065129   \n",
      "min        0.000000  3.119000e+03     0.000000      0.000000   \n",
      "25%      434.000000  3.621625e+04   222.750000      1.000000   \n",
      "50%     1058.000000  7.180900e+04   403.500000      1.000000   \n",
      "75%     2179.750000  1.374570e+05   798.250000      1.000000   \n",
      "max    17105.000000  4.390702e+07  7475.000000      1.000000   \n",
      "\n",
      "       official_account    image_love  image_comment    video_love  \\\n",
      "count        940.000000  9.400000e+02     940.000000  9.400000e+02   \n",
      "mean           0.140426  2.711334e+04     320.371277  3.736916e+04   \n",
      "std            0.347613  2.421198e+05    3132.977893  2.639833e+05   \n",
      "min            0.000000  0.000000e+00       0.000000  0.000000e+00   \n",
      "25%            0.000000  4.200000e+02      10.000000  0.000000e+00   \n",
      "50%            0.000000  9.050000e+02      22.000000  1.416000e+03   \n",
      "75%            0.000000  2.329500e+03      46.000000  7.850500e+03   \n",
      "max            1.000000  4.383333e+06   59794.000000  6.150000e+06   \n",
      "\n",
      "       video_comment     igtv_love  igtv_comment  \n",
      "count     940.000000  9.400000e+02    940.000000  \n",
      "mean      141.320213  5.988523e+03      7.084043  \n",
      "std      1709.022122  7.659354e+04     77.438287  \n",
      "min         0.000000  0.000000e+00      0.000000  \n",
      "25%         0.000000  0.000000e+00      0.000000  \n",
      "50%         4.000000  0.000000e+00      0.000000  \n",
      "75%        25.000000  0.000000e+00      0.000000  \n",
      "max     46750.000000  2.000000e+06   1646.000000  \n"
     ]
    }
   ],
   "source": [
    "import pandas as pd\n",
    "\n",
    "# 파생변수 이전 최종 데이터\n",
    "beauty_data = pd.read_csv('final_beauty_dataset.csv')\n",
    "# 데이터 통계치 요약\n",
    "print(beauty_data.describe())"
   ]
  },
  {
   "cell_type": "code",
   "execution_count": 2,
   "metadata": {},
   "outputs": [
    {
     "name": "stdout",
     "output_type": "stream",
     "text": [
      "account\n",
      "940\n",
      "post\n",
      "939\n",
      "follower\n",
      "940\n",
      "follow\n",
      "926\n",
      "open_account\n",
      "936\n",
      "official_account\n",
      "132\n",
      "image_love\n",
      "925\n",
      "image_comment\n",
      "921\n",
      "video_love\n",
      "551\n",
      "video_comment\n",
      "534\n",
      "igtv_love\n",
      "85\n",
      "igtv_comment\n",
      "82\n"
     ]
    }
   ],
   "source": [
    "# outlier 부분 처리 - 수치가 0인 데이터 제외\n",
    "for i in beauty_data.columns:\n",
    "    print(i)\n",
    "    print(beauty_data[i].count()-(beauty_data[i]==0).sum())\n",
    "\n",
    "# follower 기준 최상위 influencer 제외 데이터프레임 - 실제로 사용하지 않음\n",
    "sorted_df = beauty_data.sort_values(by=['follower'], axis=0, ascending=False)\n",
    "sorted_df = sorted_df.iloc[100:]"
   ]
  },
  {
   "cell_type": "code",
   "execution_count": 3,
   "metadata": {},
   "outputs": [
    {
     "data": {
      "image/png": "[encoded data removed]",
      "text/plain": [
       "<Figure size 432x288 with 1 Axes>"
      ]
     },
     "metadata": {
      "needs_background": "light"
     },
     "output_type": "display_data"
    }
   ],
   "source": [
    "# 각 feature별 boxplot 확인\n",
    "%matplotlib inline\n",
    "import matplotlib.pyplot as plt\n",
    "\n",
    "i_comment = pd.DataFrame(beauty_data['follower'])\n",
    "mask = i_comment['follower'].isin([0])\n",
    "i_comment = i_comment[~mask]\n",
    "\n",
    "# preprocessing하지 않음 - low한 데이터 static 확인 목적 - 각 column 별 확인\n",
    "i_comment.boxplot(column=['follower'])\n",
    "plt.show()"
   ]
  },
  {
   "cell_type": "code",
   "execution_count": 4,
   "metadata": {},
   "outputs": [
    {
     "name": "stdout",
     "output_type": "stream",
     "text": [
      "                      post  follower    follow  open_account  \\\n",
      "post              1.000000 -0.013286  0.078886     -0.045061   \n",
      "follower         -0.013286  1.000000 -0.064218      0.009301   \n",
      "follow            0.078886 -0.064218  1.000000      0.018971   \n",
      "open_account     -0.045061  0.009301  0.018971      1.000000   \n",
      "official_account  0.033335  0.350490 -0.155144     -0.020618   \n",
      "image_love       -0.048098  0.756814 -0.057617      0.007324   \n",
      "image_comment    -0.046541  0.706171 -0.048992      0.006688   \n",
      "video_love       -0.025594  0.547028 -0.059601      0.009259   \n",
      "video_comment    -0.027492  0.424768 -0.034690      0.005409   \n",
      "igtv_love         0.023453  0.348935 -0.020859      0.005114   \n",
      "igtv_comment      0.022440  0.404056 -0.019655      0.005983   \n",
      "\n",
      "                  official_account  image_love  image_comment  video_love  \\\n",
      "post                      0.033335   -0.048098      -0.046541   -0.025594   \n",
      "follower                  0.350490    0.756814       0.706171    0.547028   \n",
      "follow                   -0.155144   -0.057617      -0.048992   -0.059601   \n",
      "open_account             -0.020618    0.007324       0.006688    0.009259   \n",
      "official_account          1.000000    0.255870       0.216744    0.276148   \n",
      "image_love                0.255870    1.000000       0.925075    0.495333   \n",
      "image_comment             0.216744    0.925075       1.000000    0.443301   \n",
      "video_love                0.276148    0.495333       0.443301    1.000000   \n",
      "video_comment             0.174261    0.448008       0.639720    0.665246   \n",
      "igtv_love                 0.145610    0.054070       0.027384    0.272824   \n",
      "igtv_comment              0.147643    0.051284       0.029733    0.252206   \n",
      "\n",
      "                  video_comment  igtv_love  igtv_comment  \n",
      "post                  -0.027492   0.023453      0.022440  \n",
      "follower               0.424768   0.348935      0.404056  \n",
      "follow                -0.034690  -0.020859     -0.019655  \n",
      "open_account           0.005409   0.005114      0.005983  \n",
      "official_account       0.174261   0.145610      0.147643  \n",
      "image_love             0.448008   0.054070      0.051284  \n",
      "image_comment          0.639720   0.027384      0.029733  \n",
      "video_love             0.665246   0.272824      0.252206  \n",
      "video_comment          1.000000   0.046096      0.042706  \n",
      "igtv_love              0.046096   1.000000      0.952929  \n",
      "igtv_comment           0.042706   0.952929      1.000000  \n"
     ]
    }
   ],
   "source": [
    "# 상관관계 분석\n",
    "import pandas as pd\n",
    "\n",
    "corr=beauty_data.corr(method='pearson')\n",
    "print(corr)"
   ]
  },
  {
   "cell_type": "code",
   "execution_count": 5,
   "metadata": {},
   "outputs": [
    {
     "name": "stdout",
     "output_type": "stream",
     "text": [
      "       rate_image\n",
      "count  925.000000\n",
      "mean     0.031804\n",
      "std      0.039255\n",
      "min      0.000000\n",
      "25%      0.010008\n",
      "50%      0.020000\n",
      "75%      0.038674\n",
      "max      0.430868\n"
     ]
    },
    {
     "data": {
      "image/png": "[encoded data removed]",
      "text/plain": [
       "<Figure size 432x288 with 1 Axes>"
      ]
     },
     "metadata": {
      "needs_background": "light"
     },
     "output_type": "display_data"
    }
   ],
   "source": [
    "# ER 지수 좋아요/댓글 비율 확인 - 파생변수 도출을 위한 static 확인 \n",
    "image_info = beauty_data[['image_love', 'image_comment']]\n",
    "df_temp = pd.DataFrame(image_info['image_comment'] / image_info['image_love'])\n",
    "df_temp.columns = ['rate_image']\n",
    "print(df_temp.describe())\n",
    "df_temp.boxplot(column=['rate_image'])\n",
    "plt.show()"
   ]
  },
  {
   "cell_type": "code",
   "execution_count": 27,
   "metadata": {},
   "outputs": [],
   "source": [
    "#파생변수 만들기 -> beauty_data_extend\n",
    "\n",
    "# (1) ER 지수\n",
    "# 1-1 좋아요, 댓글 비율 반영 x\n",
    "ER_basic = pd.DataFrame((image_info['image_comment'] + image_info['image_love']) / beauty_data['follower'] * 100)\n",
    "ER_basic.columns = ['ER']\n",
    "# print(ER_basic.describe())\n",
    "# ER_basic.boxplot(column=['ER'])\n",
    "# plt.show()\n",
    "\n",
    "# (2) 적극 참여 지수 - 댓글은 적극적인 반응이다 라는 전제 (위의 ER지수가 1:1비율이라 일단은 생성)\n",
    "active_df = pd.DataFrame(image_info['image_comment'] / (image_info['image_love']+1) * 100)\n",
    "active_df.columns = ['active_rate']\n",
    "# print(active_df.describe())\n",
    "# active_df.boxplot(column=['active_rate'])\n",
    "# plt.show()\n",
    "\n",
    "# ER, active_rate 반영 최종 데이터 셋 -> beauty_data_extend.csv\n",
    "beauty_data_extend = pd.concat([beauty_data, ER_basic, active_df], axis=1)\n",
    "beauty_data_extend.to_csv('beauty_data_extend.csv')"
   ]
  }
 ],
 "metadata": {
  "kernelspec": {
   "display_name": "Python 3",
   "language": "python",
   "name": "python3"
  },
  "language_info": {
   "codemirror_mode": {
    "name": "ipython",
    "version": 3
   },
   "file_extension": ".py",
   "mimetype": "text/x-python",
   "name": "python",
   "nbconvert_exporter": "python",
   "pygments_lexer": "ipython3",
   "version": "3.7.1"
  }
 },
 "nbformat": 4,
 "nbformat_minor": 2
}
